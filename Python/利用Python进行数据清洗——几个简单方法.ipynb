{
 "cells": [
  {
   "cell_type": "markdown",
   "metadata": {},
   "source": [
    "利用Python进行数据清洗——几个简单方法\n",
    "\n",
    "- 本篇总结一些比较便捷实用的数据清洗技巧。"
   ]
  },
  {
   "cell_type": "markdown",
   "metadata": {},
   "source": [
    "# 1. 对数据集进行筛选\n",
    "\n",
    "- data1.xlsx 为用户基本信息表。包含了用户的各项基本信息、申请时间、放款时间等。如果只需要保留申请时间在2017年1月1日之后的用户，则操作如下："
   ]
  },
  {
   "cell_type": "code",
   "execution_count": 3,
   "metadata": {},
   "outputs": [],
   "source": [
    "import pandas as pd"
   ]
  },
  {
   "cell_type": "code",
   "execution_count": 32,
   "metadata": {},
   "outputs": [
    {
     "data": {
      "text/html": [
       "<div>\n",
       "<style scoped>\n",
       "    .dataframe tbody tr th:only-of-type {\n",
       "        vertical-align: middle;\n",
       "    }\n",
       "\n",
       "    .dataframe tbody tr th {\n",
       "        vertical-align: top;\n",
       "    }\n",
       "\n",
       "    .dataframe thead th {\n",
       "        text-align: right;\n",
       "    }\n",
       "</style>\n",
       "<table border=\"1\" class=\"dataframe\">\n",
       "  <thead>\n",
       "    <tr style=\"text-align: right;\">\n",
       "      <th></th>\n",
       "      <th>cus_id</th>\n",
       "      <th>cus_in</th>\n",
       "      <th>apply_time</th>\n",
       "      <th>final_time</th>\n",
       "      <th>cus_edu</th>\n",
       "      <th>cert_no</th>\n",
       "    </tr>\n",
       "  </thead>\n",
       "  <tbody>\n",
       "    <tr>\n",
       "      <th>0</th>\n",
       "      <td>1</td>\n",
       "      <td>张三</td>\n",
       "      <td>2000-07-05</td>\n",
       "      <td>2000-07-15</td>\n",
       "      <td>7</td>\n",
       "      <td>3213</td>\n",
       "    </tr>\n",
       "    <tr>\n",
       "      <th>1</th>\n",
       "      <td>2</td>\n",
       "      <td>李四</td>\n",
       "      <td>2017-01-01</td>\n",
       "      <td>2017-01-11</td>\n",
       "      <td>7</td>\n",
       "      <td>2222</td>\n",
       "    </tr>\n",
       "    <tr>\n",
       "      <th>2</th>\n",
       "      <td>3</td>\n",
       "      <td>王五</td>\n",
       "      <td>2002-03-04</td>\n",
       "      <td>2002-03-14</td>\n",
       "      <td>7</td>\n",
       "      <td>6912</td>\n",
       "    </tr>\n",
       "    <tr>\n",
       "      <th>3</th>\n",
       "      <td>4</td>\n",
       "      <td>赵六</td>\n",
       "      <td>2016-12-31</td>\n",
       "      <td>2017-01-10</td>\n",
       "      <td>7</td>\n",
       "      <td>3822</td>\n",
       "    </tr>\n",
       "    <tr>\n",
       "      <th>4</th>\n",
       "      <td>5</td>\n",
       "      <td>周杰伦</td>\n",
       "      <td>2022-02-03</td>\n",
       "      <td>2022-02-13</td>\n",
       "      <td>7</td>\n",
       "      <td>4712</td>\n",
       "    </tr>\n",
       "    <tr>\n",
       "      <th>5</th>\n",
       "      <td>6</td>\n",
       "      <td>李宇春</td>\n",
       "      <td>2023-05-01</td>\n",
       "      <td>2023-05-11</td>\n",
       "      <td>7</td>\n",
       "      <td>9323</td>\n",
       "    </tr>\n",
       "  </tbody>\n",
       "</table>\n",
       "</div>"
      ],
      "text/plain": [
       "   cus_id cus_in apply_time final_time  cus_edu  cert_no\n",
       "0       1     张三 2000-07-05 2000-07-15        7     3213\n",
       "1       2     李四 2017-01-01 2017-01-11        7     2222\n",
       "2       3     王五 2002-03-04 2002-03-14        7     6912\n",
       "3       4     赵六 2016-12-31 2017-01-10        7     3822\n",
       "4       5    周杰伦 2022-02-03 2022-02-13        7     4712\n",
       "5       6    李宇春 2023-05-01 2023-05-11        7     9323"
      ]
     },
     "execution_count": 32,
     "metadata": {},
     "output_type": "execute_result"
    }
   ],
   "source": [
    "data1 = pd.read_excel('./datas/data1.xlsx')\n",
    "data1"
   ]
  },
  {
   "cell_type": "code",
   "execution_count": 20,
   "metadata": {},
   "outputs": [
    {
     "data": {
      "text/html": [
       "<div>\n",
       "<style scoped>\n",
       "    .dataframe tbody tr th:only-of-type {\n",
       "        vertical-align: middle;\n",
       "    }\n",
       "\n",
       "    .dataframe tbody tr th {\n",
       "        vertical-align: top;\n",
       "    }\n",
       "\n",
       "    .dataframe thead th {\n",
       "        text-align: right;\n",
       "    }\n",
       "</style>\n",
       "<table border=\"1\" class=\"dataframe\">\n",
       "  <thead>\n",
       "    <tr style=\"text-align: right;\">\n",
       "      <th></th>\n",
       "      <th>cus_id</th>\n",
       "      <th>cus_in</th>\n",
       "      <th>apply_time</th>\n",
       "      <th>final_time</th>\n",
       "    </tr>\n",
       "  </thead>\n",
       "  <tbody>\n",
       "    <tr>\n",
       "      <th>1</th>\n",
       "      <td>2</td>\n",
       "      <td>李四</td>\n",
       "      <td>2017-01-01</td>\n",
       "      <td>2017-01-11</td>\n",
       "    </tr>\n",
       "    <tr>\n",
       "      <th>4</th>\n",
       "      <td>5</td>\n",
       "      <td>周杰伦</td>\n",
       "      <td>2022-02-03</td>\n",
       "      <td>2022-02-13</td>\n",
       "    </tr>\n",
       "    <tr>\n",
       "      <th>5</th>\n",
       "      <td>6</td>\n",
       "      <td>李宇春</td>\n",
       "      <td>2023-05-01</td>\n",
       "      <td>2023-05-11</td>\n",
       "    </tr>\n",
       "  </tbody>\n",
       "</table>\n",
       "</div>"
      ],
      "text/plain": [
       "   cus_id cus_in apply_time final_time\n",
       "1       2     李四 2017-01-01 2017-01-11\n",
       "4       5    周杰伦 2022-02-03 2022-02-13\n",
       "5       6    李宇春 2023-05-01 2023-05-11"
      ]
     },
     "execution_count": 20,
     "metadata": {},
     "output_type": "execute_result"
    }
   ],
   "source": [
    "data_new = data1.loc[data1['apply_time'] >= '2017-01-01']\n",
    "data_new"
   ]
  },
  {
   "cell_type": "markdown",
   "metadata": {},
   "source": [
    "- datanew就是我们所需要的数据。上述操作的前提是，apply_time字段的格式必须是'yyyy-mm-dd'。这种字符串格式的日期可以直接用来比较大小。"
   ]
  },
  {
   "cell_type": "markdown",
   "metadata": {},
   "source": [
    "- 假如银行提供了另一张白名单客户表data2。如果想筛选出data表里的所有白名单用户的数据，则操作如下："
   ]
  },
  {
   "cell_type": "code",
   "execution_count": 16,
   "metadata": {},
   "outputs": [
    {
     "data": {
      "text/html": [
       "<div>\n",
       "<style scoped>\n",
       "    .dataframe tbody tr th:only-of-type {\n",
       "        vertical-align: middle;\n",
       "    }\n",
       "\n",
       "    .dataframe tbody tr th {\n",
       "        vertical-align: top;\n",
       "    }\n",
       "\n",
       "    .dataframe thead th {\n",
       "        text-align: right;\n",
       "    }\n",
       "</style>\n",
       "<table border=\"1\" class=\"dataframe\">\n",
       "  <thead>\n",
       "    <tr style=\"text-align: right;\">\n",
       "      <th></th>\n",
       "      <th>cus_id</th>\n",
       "      <th>cus_in</th>\n",
       "    </tr>\n",
       "  </thead>\n",
       "  <tbody>\n",
       "    <tr>\n",
       "      <th>0</th>\n",
       "      <td>1</td>\n",
       "      <td>张三</td>\n",
       "    </tr>\n",
       "    <tr>\n",
       "      <th>1</th>\n",
       "      <td>2</td>\n",
       "      <td>李四</td>\n",
       "    </tr>\n",
       "    <tr>\n",
       "      <th>2</th>\n",
       "      <td>3</td>\n",
       "      <td>王五</td>\n",
       "    </tr>\n",
       "    <tr>\n",
       "      <th>3</th>\n",
       "      <td>4</td>\n",
       "      <td>赵六</td>\n",
       "    </tr>\n",
       "    <tr>\n",
       "      <th>4</th>\n",
       "      <td>12</td>\n",
       "      <td>张三丰</td>\n",
       "    </tr>\n",
       "  </tbody>\n",
       "</table>\n",
       "</div>"
      ],
      "text/plain": [
       "   cus_id cus_in\n",
       "0       1     张三\n",
       "1       2     李四\n",
       "2       3     王五\n",
       "3       4     赵六\n",
       "4      12    张三丰"
      ]
     },
     "execution_count": 16,
     "metadata": {},
     "output_type": "execute_result"
    }
   ],
   "source": [
    "data2 = pd.read_excel('./datas/data2.xlsx')\n",
    "data2"
   ]
  },
  {
   "cell_type": "code",
   "execution_count": 18,
   "metadata": {},
   "outputs": [
    {
     "data": {
      "text/html": [
       "<div>\n",
       "<style scoped>\n",
       "    .dataframe tbody tr th:only-of-type {\n",
       "        vertical-align: middle;\n",
       "    }\n",
       "\n",
       "    .dataframe tbody tr th {\n",
       "        vertical-align: top;\n",
       "    }\n",
       "\n",
       "    .dataframe thead th {\n",
       "        text-align: right;\n",
       "    }\n",
       "</style>\n",
       "<table border=\"1\" class=\"dataframe\">\n",
       "  <thead>\n",
       "    <tr style=\"text-align: right;\">\n",
       "      <th></th>\n",
       "      <th>cus_id</th>\n",
       "      <th>cus_in</th>\n",
       "      <th>apply_time</th>\n",
       "      <th>final_time</th>\n",
       "    </tr>\n",
       "  </thead>\n",
       "  <tbody>\n",
       "    <tr>\n",
       "      <th>0</th>\n",
       "      <td>1</td>\n",
       "      <td>张三</td>\n",
       "      <td>2000-07-05</td>\n",
       "      <td>2000-07-15</td>\n",
       "    </tr>\n",
       "    <tr>\n",
       "      <th>1</th>\n",
       "      <td>2</td>\n",
       "      <td>李四</td>\n",
       "      <td>2017-01-01</td>\n",
       "      <td>2017-01-11</td>\n",
       "    </tr>\n",
       "    <tr>\n",
       "      <th>2</th>\n",
       "      <td>3</td>\n",
       "      <td>王五</td>\n",
       "      <td>2002-03-04</td>\n",
       "      <td>2002-03-14</td>\n",
       "    </tr>\n",
       "    <tr>\n",
       "      <th>3</th>\n",
       "      <td>4</td>\n",
       "      <td>赵六</td>\n",
       "      <td>2016-12-31</td>\n",
       "      <td>2017-01-10</td>\n",
       "    </tr>\n",
       "  </tbody>\n",
       "</table>\n",
       "</div>"
      ],
      "text/plain": [
       "   cus_id cus_in apply_time final_time\n",
       "0       1     张三 2000-07-05 2000-07-15\n",
       "1       2     李四 2017-01-01 2017-01-11\n",
       "2       3     王五 2002-03-04 2002-03-14\n",
       "3       4     赵六 2016-12-31 2017-01-10"
      ]
     },
     "execution_count": 18,
     "metadata": {},
     "output_type": "execute_result"
    }
   ],
   "source": [
    "data_white = data1.loc[data1['cus_id'].isin(data2['cus_id'])] # loc里面为布尔数组\n",
    "data_white"
   ]
  },
  {
   "cell_type": "markdown",
   "metadata": {},
   "source": [
    "# 2. 对某一字段进行清洗\n",
    "\n",
    "- 数据集经常存在的一个问题是数据格式不规范。例如学历字段，用数字代指学历，但同一个学历等级可能同时存在'7'、'07'、7、' 7'这四种数据标签，如果不进行处理就无法使用。处理方式如下："
   ]
  },
  {
   "cell_type": "code",
   "execution_count": 29,
   "metadata": {},
   "outputs": [],
   "source": [
    "data1['cus_edu'] = data1['cus_edu'].apply(lambda x:str(x))\n",
    "data1['cus_edu'] = data1['cus_edu'].apply(lambda x:x.replace('07','7'))"
   ]
  },
  {
   "cell_type": "markdown",
   "metadata": {},
   "source": [
    "- 第一行，先将该字段的所有数据都转化为str格式。这里使用了apply和lambda方法。apply可以把括号内的函数应用于整个列。\n",
    "\n",
    "- 第二行，使用replace方法将'07'统一替换为'7'。\n",
    "\n",
    "- 最后，' 7'替换为'7'，方法同第二行。"
   ]
  },
  {
   "cell_type": "markdown",
   "metadata": {},
   "source": [
    "# 3. 变量衍生\n",
    "\n",
    "- 变量衍生是特征工程的重要一环。根据经验和业务逻辑，可以发掘出很多解释效果很不错的衍生变量。\n",
    "- 以身份证为例，从身份证当中，至少可以衍生出省市区、年龄、生日、星座和性别这些信息。\n",
    "    - 身份证前两位代表省份（网上可以查到对应关系）\n",
    "    - 第7-14位代表生日\n",
    "    - 倒数第二位可以推断出性别，奇数为男性，偶数为女性。\n",
    "    \n",
    "这里就以性别为例。"
   ]
  },
  {
   "cell_type": "markdown",
   "metadata": {},
   "source": [
    "## 3.1 衍生性别字段"
   ]
  },
  {
   "cell_type": "code",
   "execution_count": 33,
   "metadata": {},
   "outputs": [
    {
     "data": {
      "text/html": [
       "<div>\n",
       "<style scoped>\n",
       "    .dataframe tbody tr th:only-of-type {\n",
       "        vertical-align: middle;\n",
       "    }\n",
       "\n",
       "    .dataframe tbody tr th {\n",
       "        vertical-align: top;\n",
       "    }\n",
       "\n",
       "    .dataframe thead th {\n",
       "        text-align: right;\n",
       "    }\n",
       "</style>\n",
       "<table border=\"1\" class=\"dataframe\">\n",
       "  <thead>\n",
       "    <tr style=\"text-align: right;\">\n",
       "      <th></th>\n",
       "      <th>cus_id</th>\n",
       "      <th>cus_in</th>\n",
       "      <th>apply_time</th>\n",
       "      <th>final_time</th>\n",
       "      <th>cus_edu</th>\n",
       "      <th>cert_no</th>\n",
       "    </tr>\n",
       "  </thead>\n",
       "  <tbody>\n",
       "    <tr>\n",
       "      <th>0</th>\n",
       "      <td>1</td>\n",
       "      <td>张三</td>\n",
       "      <td>2000-07-05</td>\n",
       "      <td>2000-07-15</td>\n",
       "      <td>7</td>\n",
       "      <td>3213</td>\n",
       "    </tr>\n",
       "    <tr>\n",
       "      <th>1</th>\n",
       "      <td>2</td>\n",
       "      <td>李四</td>\n",
       "      <td>2017-01-01</td>\n",
       "      <td>2017-01-11</td>\n",
       "      <td>7</td>\n",
       "      <td>2222</td>\n",
       "    </tr>\n",
       "    <tr>\n",
       "      <th>2</th>\n",
       "      <td>3</td>\n",
       "      <td>王五</td>\n",
       "      <td>2002-03-04</td>\n",
       "      <td>2002-03-14</td>\n",
       "      <td>7</td>\n",
       "      <td>6912</td>\n",
       "    </tr>\n",
       "    <tr>\n",
       "      <th>3</th>\n",
       "      <td>4</td>\n",
       "      <td>赵六</td>\n",
       "      <td>2016-12-31</td>\n",
       "      <td>2017-01-10</td>\n",
       "      <td>7</td>\n",
       "      <td>3822</td>\n",
       "    </tr>\n",
       "    <tr>\n",
       "      <th>4</th>\n",
       "      <td>5</td>\n",
       "      <td>周杰伦</td>\n",
       "      <td>2022-02-03</td>\n",
       "      <td>2022-02-13</td>\n",
       "      <td>7</td>\n",
       "      <td>4712</td>\n",
       "    </tr>\n",
       "    <tr>\n",
       "      <th>5</th>\n",
       "      <td>6</td>\n",
       "      <td>李宇春</td>\n",
       "      <td>2023-05-01</td>\n",
       "      <td>2023-05-11</td>\n",
       "      <td>7</td>\n",
       "      <td>9323</td>\n",
       "    </tr>\n",
       "  </tbody>\n",
       "</table>\n",
       "</div>"
      ],
      "text/plain": [
       "   cus_id cus_in apply_time final_time  cus_edu  cert_no\n",
       "0       1     张三 2000-07-05 2000-07-15        7     3213\n",
       "1       2     李四 2017-01-01 2017-01-11        7     2222\n",
       "2       3     王五 2002-03-04 2002-03-14        7     6912\n",
       "3       4     赵六 2016-12-31 2017-01-10        7     3822\n",
       "4       5    周杰伦 2022-02-03 2022-02-13        7     4712\n",
       "5       6    李宇春 2023-05-01 2023-05-11        7     9323"
      ]
     },
     "execution_count": 33,
     "metadata": {},
     "output_type": "execute_result"
    }
   ],
   "source": [
    "data1"
   ]
  },
  {
   "cell_type": "code",
   "execution_count": 43,
   "metadata": {},
   "outputs": [],
   "source": [
    "import numpy as np\n",
    "\n",
    "data1['gender'] = data1['cert_no'].apply(lambda x : np.where(int(str(x)[-2])%2!=0, '男', '女'))\n",
    "\n",
    "\n",
    "# 出现TypeError: ‘int’ object is not subscriptable异常的情况与解决方法\n",
    "# 原因：不支持索引的对象使用索引\n"
   ]
  },
  {
   "cell_type": "code",
   "execution_count": 44,
   "metadata": {},
   "outputs": [
    {
     "data": {
      "text/html": [
       "<div>\n",
       "<style scoped>\n",
       "    .dataframe tbody tr th:only-of-type {\n",
       "        vertical-align: middle;\n",
       "    }\n",
       "\n",
       "    .dataframe tbody tr th {\n",
       "        vertical-align: top;\n",
       "    }\n",
       "\n",
       "    .dataframe thead th {\n",
       "        text-align: right;\n",
       "    }\n",
       "</style>\n",
       "<table border=\"1\" class=\"dataframe\">\n",
       "  <thead>\n",
       "    <tr style=\"text-align: right;\">\n",
       "      <th></th>\n",
       "      <th>cus_id</th>\n",
       "      <th>cus_in</th>\n",
       "      <th>apply_time</th>\n",
       "      <th>final_time</th>\n",
       "      <th>cus_edu</th>\n",
       "      <th>cert_no</th>\n",
       "      <th>gender</th>\n",
       "    </tr>\n",
       "  </thead>\n",
       "  <tbody>\n",
       "    <tr>\n",
       "      <th>0</th>\n",
       "      <td>1</td>\n",
       "      <td>张三</td>\n",
       "      <td>2000-07-05</td>\n",
       "      <td>2000-07-15</td>\n",
       "      <td>7</td>\n",
       "      <td>3213</td>\n",
       "      <td>男</td>\n",
       "    </tr>\n",
       "    <tr>\n",
       "      <th>1</th>\n",
       "      <td>2</td>\n",
       "      <td>李四</td>\n",
       "      <td>2017-01-01</td>\n",
       "      <td>2017-01-11</td>\n",
       "      <td>7</td>\n",
       "      <td>2222</td>\n",
       "      <td>女</td>\n",
       "    </tr>\n",
       "    <tr>\n",
       "      <th>2</th>\n",
       "      <td>3</td>\n",
       "      <td>王五</td>\n",
       "      <td>2002-03-04</td>\n",
       "      <td>2002-03-14</td>\n",
       "      <td>7</td>\n",
       "      <td>6912</td>\n",
       "      <td>男</td>\n",
       "    </tr>\n",
       "    <tr>\n",
       "      <th>3</th>\n",
       "      <td>4</td>\n",
       "      <td>赵六</td>\n",
       "      <td>2016-12-31</td>\n",
       "      <td>2017-01-10</td>\n",
       "      <td>7</td>\n",
       "      <td>3822</td>\n",
       "      <td>女</td>\n",
       "    </tr>\n",
       "    <tr>\n",
       "      <th>4</th>\n",
       "      <td>5</td>\n",
       "      <td>周杰伦</td>\n",
       "      <td>2022-02-03</td>\n",
       "      <td>2022-02-13</td>\n",
       "      <td>7</td>\n",
       "      <td>4712</td>\n",
       "      <td>男</td>\n",
       "    </tr>\n",
       "    <tr>\n",
       "      <th>5</th>\n",
       "      <td>6</td>\n",
       "      <td>李宇春</td>\n",
       "      <td>2023-05-01</td>\n",
       "      <td>2023-05-11</td>\n",
       "      <td>7</td>\n",
       "      <td>9323</td>\n",
       "      <td>女</td>\n",
       "    </tr>\n",
       "  </tbody>\n",
       "</table>\n",
       "</div>"
      ],
      "text/plain": [
       "   cus_id cus_in apply_time final_time  cus_edu  cert_no gender\n",
       "0       1     张三 2000-07-05 2000-07-15        7     3213      男\n",
       "1       2     李四 2017-01-01 2017-01-11        7     2222      女\n",
       "2       3     王五 2002-03-04 2002-03-14        7     6912      男\n",
       "3       4     赵六 2016-12-31 2017-01-10        7     3822      女\n",
       "4       5    周杰伦 2022-02-03 2022-02-13        7     4712      男\n",
       "5       6    李宇春 2023-05-01 2023-05-11        7     9323      女"
      ]
     },
     "execution_count": 44,
     "metadata": {},
     "output_type": "execute_result"
    }
   ],
   "source": [
    "data1"
   ]
  },
  {
   "cell_type": "markdown",
   "metadata": {},
   "source": [
    "看起来可能略微复杂，一步步拆解来看。\n",
    "- 首先看最内层的“int(x[-2])!=0”。x[-2]使用索引的方式提取出身份证号的倒数第二位，然后使用int转化为整数，再整除2。如果余数不等于0，则表示x[-2]是奇数，反之为偶数。因此这部分作为判断条件；\n",
    "- 向外一层是np.where，类似于excel里面的if，它的第一个参数代表判断条件，如果条件为true则返回参数二，如果为false则返回参数三；\n",
    "- 再往外则是lambda函数；\n",
    "- 最后就是apply方法，它将lambda应用到整个列。整合起来看，如果身份证倒数第二位是奇数，则返回“男”，否则返回“女”。"
   ]
  },
  {
   "cell_type": "markdown",
   "metadata": {},
   "source": [
    "## 3.2 列表推导式"
   ]
  },
  {
   "cell_type": "markdown",
   "metadata": {},
   "source": [
    "- 列表推导式是一个超级好用的方法，它的结构是 [a if condition else b for i in list] ，运行的结果等同于："
   ]
  },
  {
   "cell_type": "code",
   "execution_count": null,
   "metadata": {},
   "outputs": [],
   "source": [
    "list2 = []\n",
    "for i in list1:\n",
    "    if condition:\n",
    "        list2.append[a]\n",
    "    else:\n",
    "        list2.append[b]"
   ]
  },
  {
   "cell_type": "markdown",
   "metadata": {},
   "source": [
    "- 其运行速度比for循环要快很多倍，且代码更简洁。\n",
    "- 例如，衍生一个字段判断身份证所在省份编号和现居省份编号是否一致，1代表一致，0代表不一致："
   ]
  },
  {
   "cell_type": "code",
   "execution_count": 46,
   "metadata": {},
   "outputs": [],
   "source": [
    "data['rsd_cons'] = [1 if i == j else 0 for i, j in zip(data['cert_plc'], data['rsd_plc'])]"
   ]
  },
  {
   "cell_type": "markdown",
   "metadata": {},
   "source": [
    "## 3.3 计算日期差"
   ]
  },
  {
   "cell_type": "markdown",
   "metadata": {},
   "source": []
  }
 ],
 "metadata": {
  "kernelspec": {
   "display_name": "Python 3.8.8 ('base')",
   "language": "python",
   "name": "python3"
  },
  "language_info": {
   "codemirror_mode": {
    "name": "ipython",
    "version": 3
   },
   "file_extension": ".py",
   "mimetype": "text/x-python",
   "name": "python",
   "nbconvert_exporter": "python",
   "pygments_lexer": "ipython3",
   "version": "3.8.8"
  },
  "orig_nbformat": 4,
  "vscode": {
   "interpreter": {
    "hash": "e42634819b8c191a5d07eaf23810ff32516dd8d3875f28ec3e488928fbd3c187"
   }
  }
 },
 "nbformat": 4,
 "nbformat_minor": 2
}
